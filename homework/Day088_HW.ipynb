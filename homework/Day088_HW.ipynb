{
 "cells": [
  {
   "cell_type": "markdown",
   "metadata": {},
   "source": [
    "## Work\n",
    "1. 請嘗試寫一個 callback 用來記錄各類別在訓練過程中，對驗證集的 True Positive 與 True Negative"
   ]
  },
  {
   "cell_type": "code",
   "execution_count": 1,
   "metadata": {},
   "outputs": [
    {
     "name": "stderr",
     "output_type": "stream",
     "text": [
      "C:\\Users\\nien\\Anaconda3\\envs\\tensorflow-gpu\\lib\\site-packages\\h5py\\__init__.py:36: FutureWarning: Conversion of the second argument of issubdtype from `float` to `np.floating` is deprecated. In future, it will be treated as `np.float64 == np.dtype(float).type`.\n",
      "  from ._conv import register_converters as _register_converters\n",
      "Using TensorFlow backend.\n"
     ]
    }
   ],
   "source": [
    "import os\n",
    "import keras\n",
    "\n",
    "# Disable GPU\n",
    "#os.environ[\"CUDA_VISIBLE_DEVICES\"] = \"\""
   ]
  },
  {
   "cell_type": "code",
   "execution_count": 2,
   "metadata": {},
   "outputs": [],
   "source": [
    "train, test = keras.datasets.cifar10.load_data()"
   ]
  },
  {
   "cell_type": "code",
   "execution_count": 3,
   "metadata": {},
   "outputs": [],
   "source": [
    "## 資料前處理\n",
    "def preproc_x(x, flatten=True):\n",
    "    x = x / 255.\n",
    "    if flatten:\n",
    "        x = x.reshape((len(x), -1))\n",
    "    return x\n",
    "\n",
    "def preproc_y(y, num_classes=10):\n",
    "    if y.shape[-1] == 1:\n",
    "        y = keras.utils.to_categorical(y, num_classes)\n",
    "    return y    "
   ]
  },
  {
   "cell_type": "code",
   "execution_count": 4,
   "metadata": {},
   "outputs": [],
   "source": [
    "x_train, y_train = train\n",
    "x_test, y_test = test\n",
    "\n",
    "# Preproc the inputs\n",
    "x_train = preproc_x(x_train)\n",
    "x_test = preproc_x(x_test)\n",
    "\n",
    "# Preprc the outputs\n",
    "y_train = preproc_y(y_train)\n",
    "y_test = preproc_y(y_test)"
   ]
  },
  {
   "cell_type": "code",
   "execution_count": 5,
   "metadata": {},
   "outputs": [],
   "source": [
    "from keras.layers import BatchNormalization\n",
    "def build_mlp(input_shape, output_units=10, num_neurons=[256, 256, 256]):\n",
    "    input_layer = keras.layers.Input(input_shape)\n",
    "    \n",
    "    for i, n_units in enumerate(num_neurons):\n",
    "        if i == 0:\n",
    "            x = keras.layers.Dense(units=n_units, \n",
    "                                   activation=\"relu\", \n",
    "                                   name=\"hidden_layer\"+str(i+1))(input_layer)\n",
    "            x = BatchNormalization()(x)\n",
    "        else:\n",
    "            x = keras.layers.Dense(units=n_units, \n",
    "                                   activation=\"relu\", \n",
    "                                   name=\"hidden_layer\"+str(i+1))(x)\n",
    "            x = BatchNormalization()(x)\n",
    "    \n",
    "    out = keras.layers.Dense(units=output_units, activation=\"softmax\", name=\"output\")(x)\n",
    "    \n",
    "    model = keras.models.Model(inputs=[input_layer], outputs=[out])\n",
    "    return model"
   ]
  },
  {
   "cell_type": "code",
   "execution_count": 6,
   "metadata": {},
   "outputs": [],
   "source": [
    "## 超參數設定\n",
    "LEARNING_RATE = 1e-3\n",
    "EPOCHS = 25\n",
    "BATCH_SIZE = 1024\n",
    "MOMENTUM = 0.95"
   ]
  },
  {
   "cell_type": "code",
   "execution_count": 9,
   "metadata": {},
   "outputs": [],
   "source": [
    "# 載入 Callbacks\n",
    "from keras.callbacks import Callback\n",
    "\n",
    "# Record_fp_tp\n",
    "class Record_tp_tn(Callback):\n",
    "    def on_train_begin(self, epoch, logs = {}):\n",
    "        logs = logs or {}\n",
    "        record_items = [\"val_tp\", \"val_tn\"]\n",
    "        for i in record_items:\n",
    "            if i not in self.params['metrics']:\n",
    "                self.params['metrics'].append(i)\n",
    "    \n",
    "    def on_epoch_end(self, epoch, logs = {}, thres=0.5):\n",
    "        logs = logs or {}\n",
    "        y_true = self.validation_data[1].argmax(axis = 1)\n",
    "        y_pred = self.model.predict(self.validation_data[0])\n",
    "        y_pred = (y_pred[:, 1] >= thres) * 1\n",
    "        tp = sum(y_true*y_pred)\n",
    "        tn = sum((y_true==0) & (y_pred==0))\n",
    "        \n",
    "        logs[\"val_tp\"] = tp\n",
    "        logs[\"val_tn\"] = tn\n",
    "        \n",
    "rec_tptn = Record_tp_tn()"
   ]
  },
  {
   "cell_type": "code",
   "execution_count": 11,
   "metadata": {
    "scrolled": true
   },
   "outputs": [
    {
     "name": "stdout",
     "output_type": "stream",
     "text": [
      "_________________________________________________________________\n",
      "Layer (type)                 Output Shape              Param #   \n",
      "=================================================================\n",
      "input_1 (InputLayer)         (None, 3072)              0         \n",
      "_________________________________________________________________\n",
      "hidden_layer1 (Dense)        (None, 256)               786688    \n",
      "_________________________________________________________________\n",
      "batch_normalization_1 (Batch (None, 256)               1024      \n",
      "_________________________________________________________________\n",
      "hidden_layer2 (Dense)        (None, 256)               65792     \n",
      "_________________________________________________________________\n",
      "batch_normalization_2 (Batch (None, 256)               1024      \n",
      "_________________________________________________________________\n",
      "hidden_layer3 (Dense)        (None, 256)               65792     \n",
      "_________________________________________________________________\n",
      "batch_normalization_3 (Batch (None, 256)               1024      \n",
      "_________________________________________________________________\n",
      "output (Dense)               (None, 10)                2570      \n",
      "=================================================================\n",
      "Total params: 923,914\n",
      "Trainable params: 922,378\n",
      "Non-trainable params: 1,536\n",
      "_________________________________________________________________\n",
      "WARNING:tensorflow:From C:\\Users\\nien\\Anaconda3\\envs\\tensorflow-gpu\\lib\\site-packages\\keras\\backend\\tensorflow_backend.py:2885: calling reduce_sum (from tensorflow.python.ops.math_ops) with keep_dims is deprecated and will be removed in a future version.\n",
      "Instructions for updating:\n",
      "keep_dims is deprecated, use keepdims instead\n",
      "WARNING:tensorflow:From C:\\Users\\nien\\Anaconda3\\envs\\tensorflow-gpu\\lib\\site-packages\\keras\\backend\\tensorflow_backend.py:1349: calling reduce_mean (from tensorflow.python.ops.math_ops) with keep_dims is deprecated and will be removed in a future version.\n",
      "Instructions for updating:\n",
      "keep_dims is deprecated, use keepdims instead\n",
      "Train on 50000 samples, validate on 10000 samples\n",
      "Epoch 1/25\n",
      "50000/50000 [==============================] - 7s 133us/step - loss: 2.2414 - acc: 0.2648 - val_loss: 2.1829 - val_acc: 0.1795 - val_tp: 0.0000e+00 - val_tn: 1000.0000\n",
      "Epoch 2/25\n",
      "50000/50000 [==============================] - 3s 60us/step - loss: 1.7633 - acc: 0.3829 - val_loss: 2.0400 - val_acc: 0.2660 - val_tp: 0.0000e+00 - val_tn: 1000.0000\n",
      "Epoch 3/25\n",
      "50000/50000 [==============================] - 3s 60us/step - loss: 1.6335 - acc: 0.4252 - val_loss: 1.8526 - val_acc: 0.3452 - val_tp: 7.0000 - val_tn: 1000.0000\n",
      "Epoch 4/25\n",
      "50000/50000 [==============================] - 3s 58us/step - loss: 1.5599 - acc: 0.4490 - val_loss: 1.7287 - val_acc: 0.3925 - val_tp: 85.0000 - val_tn: 1000.0000\n",
      "Epoch 5/25\n",
      "50000/50000 [==============================] - 3s 61us/step - loss: 1.5049 - acc: 0.4713 - val_loss: 1.6485 - val_acc: 0.4162 - val_tp: 315.0000 - val_tn: 1000.0000\n",
      "Epoch 6/25\n",
      "50000/50000 [==============================] - 3s 61us/step - loss: 1.4591 - acc: 0.4865 - val_loss: 1.5840 - val_acc: 0.4398 - val_tp: 433.0000 - val_tn: 998.0000\n",
      "Epoch 7/25\n",
      "50000/50000 [==============================] - 3s 60us/step - loss: 1.4230 - acc: 0.5008 - val_loss: 1.5538 - val_acc: 0.4541 - val_tp: 786.0000 - val_tn: 999.0000\n",
      "Epoch 8/25\n",
      "50000/50000 [==============================] - 4s 75us/step - loss: 1.3893 - acc: 0.5114 - val_loss: 1.5182 - val_acc: 0.4629 - val_tp: 1200.0000 - val_tn: 996.0000\n",
      "Epoch 9/25\n",
      "50000/50000 [==============================] - 3s 62us/step - loss: 1.3600 - acc: 0.5232 - val_loss: 1.5076 - val_acc: 0.4673 - val_tp: 1574.0000 - val_tn: 993.0000\n",
      "Epoch 10/25\n",
      "50000/50000 [==============================] - 4s 84us/step - loss: 1.3320 - acc: 0.5352 - val_loss: 1.4954 - val_acc: 0.4729 - val_tp: 1837.0000 - val_tn: 988.0000\n",
      "Epoch 11/25\n",
      "50000/50000 [==============================] - 4s 79us/step - loss: 1.3076 - acc: 0.5437 - val_loss: 1.4861 - val_acc: 0.4766 - val_tp: 2019.0000 - val_tn: 989.0000\n",
      "Epoch 12/25\n",
      "50000/50000 [==============================] - 3s 68us/step - loss: 1.2835 - acc: 0.5517 - val_loss: 1.4808 - val_acc: 0.4781 - val_tp: 1806.0000 - val_tn: 988.0000\n",
      "Epoch 13/25\n",
      "50000/50000 [==============================] - 3s 56us/step - loss: 1.2612 - acc: 0.5608 - val_loss: 1.4679 - val_acc: 0.4804 - val_tp: 2107.0000 - val_tn: 986.0000\n",
      "Epoch 14/25\n",
      "50000/50000 [==============================] - 3s 55us/step - loss: 1.2391 - acc: 0.5698 - val_loss: 1.4697 - val_acc: 0.4880 - val_tp: 2055.0000 - val_tn: 990.0000\n",
      "Epoch 15/25\n",
      "50000/50000 [==============================] - 3s 56us/step - loss: 1.2183 - acc: 0.5772 - val_loss: 1.4739 - val_acc: 0.4821 - val_tp: 1583.0000 - val_tn: 989.0000\n",
      "Epoch 16/25\n",
      "50000/50000 [==============================] - 3s 58us/step - loss: 1.1987 - acc: 0.5841 - val_loss: 1.4654 - val_acc: 0.4850 - val_tp: 1929.0000 - val_tn: 988.0000\n",
      "Epoch 17/25\n",
      "50000/50000 [==============================] - 3s 66us/step - loss: 1.1790 - acc: 0.5928 - val_loss: 1.4599 - val_acc: 0.4897 - val_tp: 1751.0000 - val_tn: 986.0000\n",
      "Epoch 18/25\n",
      "50000/50000 [==============================] - 3s 57us/step - loss: 1.1595 - acc: 0.5994 - val_loss: 1.4546 - val_acc: 0.4879 - val_tp: 1836.0000 - val_tn: 986.0000\n",
      "Epoch 19/25\n",
      "50000/50000 [==============================] - 3s 62us/step - loss: 1.1420 - acc: 0.6074 - val_loss: 1.4529 - val_acc: 0.4909 - val_tp: 2085.0000 - val_tn: 984.0000\n",
      "Epoch 20/25\n",
      "50000/50000 [==============================] - 3s 65us/step - loss: 1.1239 - acc: 0.6131 - val_loss: 1.4531 - val_acc: 0.4930 - val_tp: 2479.0000 - val_tn: 980.0000\n",
      "Epoch 21/25\n",
      "50000/50000 [==============================] - 4s 76us/step - loss: 1.1064 - acc: 0.6211 - val_loss: 1.4466 - val_acc: 0.4967 - val_tp: 1579.0000 - val_tn: 990.0000\n",
      "Epoch 22/25\n",
      "50000/50000 [==============================] - 4s 89us/step - loss: 1.0893 - acc: 0.6258 - val_loss: 1.4456 - val_acc: 0.4958 - val_tp: 1857.0000 - val_tn: 989.0000\n",
      "Epoch 23/25\n",
      "50000/50000 [==============================] - 4s 87us/step - loss: 1.0725 - acc: 0.6327 - val_loss: 1.4414 - val_acc: 0.4996 - val_tp: 2195.0000 - val_tn: 982.0000\n",
      "Epoch 24/25\n",
      "50000/50000 [==============================] - 5s 100us/step - loss: 1.0562 - acc: 0.6390 - val_loss: 1.4450 - val_acc: 0.4989 - val_tp: 1952.0000 - val_tn: 987.0000\n",
      "Epoch 25/25\n",
      "50000/50000 [==============================] - 5s 98us/step - loss: 1.0398 - acc: 0.6438 - val_loss: 1.4392 - val_acc: 0.5025 - val_tp: 2077.0000 - val_tn: 983.0000\n"
     ]
    }
   ],
   "source": [
    "model = build_mlp(input_shape=x_train.shape[1:])\n",
    "model.summary()\n",
    "optimizer = keras.optimizers.SGD(lr=LEARNING_RATE, nesterov=True, momentum=MOMENTUM)\n",
    "model.compile(loss=\"categorical_crossentropy\", metrics=[\"accuracy\"], optimizer=optimizer)\n",
    "\n",
    "model.fit(x_train, y_train, \n",
    "          epochs=EPOCHS, \n",
    "          batch_size=BATCH_SIZE, \n",
    "          validation_data=(x_test, y_test), \n",
    "          shuffle=True,\n",
    "          callbacks=[rec_tptn]\n",
    "         )\n",
    "\n",
    "# Collect results\n",
    "train_loss = model.history.history[\"loss\"]\n",
    "valid_loss = model.history.history[\"val_loss\"]\n",
    "train_acc = model.history.history[\"acc\"]\n",
    "valid_acc = model.history.history[\"val_acc\"]\n",
    "\n",
    "\"\"\"Code Here\n",
    "將 tp/tn 從訓練完的模型中取出\n",
    "\"\"\"\n",
    "valid_tp = model.history.history[\"val_tp\"]\n",
    "valid_tn = model.history.history[\"val_tn\"]"
   ]
  },
  {
   "cell_type": "code",
   "execution_count": 12,
   "metadata": {},
   "outputs": [
    {
     "data": {
      "image/png": "[encoded data removed]",
      "text/plain": [
       "<Figure size 432x288 with 1 Axes>"
      ]
     },
     "metadata": {},
     "output_type": "display_data"
    },
    {
     "data": {
      "image/png": "[encoded data removed]",
      "text/plain": [
       "<Figure size 432x288 with 1 Axes>"
      ]
     },
     "metadata": {},
     "output_type": "display_data"
    },
    {
     "data": {
      "image/png": "[encoded data removed]",
      "text/plain": [
       "<Figure size 432x288 with 1 Axes>"
      ]
     },
     "metadata": {},
     "output_type": "display_data"
    }
   ],
   "source": [
    "import matplotlib.pyplot as plt\n",
    "%matplotlib inline\n",
    "\n",
    "plt.plot(range(len(train_loss)), train_loss, label=\"train loss\")\n",
    "plt.plot(range(len(valid_loss)), valid_loss, label=\"valid loss\")\n",
    "plt.legend()\n",
    "plt.title(\"Loss\")\n",
    "plt.show()\n",
    "\n",
    "plt.plot(range(len(train_acc)), train_acc, label=\"train accuracy\")\n",
    "plt.plot(range(len(valid_acc)), valid_acc, label=\"valid accuracy\")\n",
    "plt.legend()\n",
    "plt.title(\"Accuracy\")\n",
    "plt.show()\n",
    "\n",
    "plt.plot(range(len(valid_tp)), valid_tp, label=\"valid tp\", color=\"navy\")\n",
    "plt.plot(range(len(valid_tn)), valid_tn, label=\"valid tn\", color=\"red\")\n",
    "plt.legend()\n",
    "plt.title(\"True positives and True Negatives\")\n",
    "plt.show()\n"
   ]
  },
  {
   "cell_type": "code",
   "execution_count": null,
   "metadata": {},
   "outputs": [],
   "source": []
  }
 ],
 "metadata": {
  "kernelspec": {
   "display_name": "Python 3",
   "language": "python",
   "name": "python3"
  },
  "language_info": {
   "codemirror_mode": {
    "name": "ipython",
    "version": 3
   },
   "file_extension": ".py",
   "mimetype": "text/x-python",
   "name": "python",
   "nbconvert_exporter": "python",
   "pygments_lexer": "ipython3",
   "version": "3.6.5"
  }
 },
 "nbformat": 4,
 "nbformat_minor": 2
}
