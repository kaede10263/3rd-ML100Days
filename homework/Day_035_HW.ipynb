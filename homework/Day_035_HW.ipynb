{
 "cells": [
  {
   "cell_type": "markdown",
   "metadata": {},
   "source": [
    "## 練習時間\n",
    "相信大家對回歸問題及分類問題都有初步的了解。今天的作業希望大家搜尋有關 multi-label 的案例問題。下圖是電影 \"奇異博士\" 的分類。可以看到同時有 \"Action\", \"Adventure\", \"Fantasy\" 的類別存在，代表這是個多標籤的問題。 "
   ]
  },
  {
   "cell_type": "markdown",
   "metadata": {},
   "source": [
    "![image](https://cdn-images-1.medium.com/max/1000/1*r0gYXMSQf5VhdMyl2bRDyg.png)"
   ]
  },
  {
   "cell_type": "markdown",
   "metadata": {},
   "source": [
    "## 請搜尋目標為多標籤問題 (Multi-label) 的機器學習案例，了解其資料來源、目標以及評估指標為何\n",
    "## Hint: 服飾"
   ]
  },
  {
   "cell_type": "markdown",
   "metadata": {},
   "source": [
    "\n",
    "了解回歸與分類的差異在哪裡?¶\n",
    "網頁連結：回歸與分類的比較 http://zylix666.blogspot.com/2016/06/supervised-classificationregression.htmlimage.png\n",
    "\n",
    "一, 先從第一個output type看, output type是指Supervised classification和regression這二種演算法最後得到的輸出是呈現什麼樣子, Supervised classfication因為是要將資料做出分類,所輸出是離散的, 以類別標籤的型式呈現, 而Regression的輸出則是連續的, 也就是regression最後輸出(或稱預測的結果)會是以數字的方式呈現.\n",
    "\n",
    "二, 再從目的來看, 也就是我們想從這二種演算法中去找到什麼. Supervised classification的目的是要找出decision boundary, 也就是新得到的一筆資料是在decision boundary(邊界)的哪一邊來決定賦予哪一種class label. 而Regression的目的, 則是找出那條最能夠區分所有資料的那條\"線\",\n",
    "\n",
    "三, 最後是衡量的方式不同, Supervised classification是看accuracy(精確度), 也就test set裡面有多少的class label是標對了, 以及有哪些是標錯了. 而Regression的衡量方法一般都是用Risidual Sum of Square(RSS), 也有人稱\"Sum of squared error\"或R squared.\n",
    "\n",
    "綜上可知, Supervised classification和Regression是有些許差異的, 但很多時候Supervised classification可以直接類比Regression的方法, 所以我們可以說Regresssion是不同型式的Supervised learning(監督式學習)."
   ]
  },
  {
   "cell_type": "markdown",
   "metadata": {},
   "source": [
    "## source : https://github.com/strive722/3rd-ML100Days/blob/master/Day_035_HW.ipynb"
   ]
  },
  {
   "cell_type": "code",
   "execution_count": null,
   "metadata": {},
   "outputs": [],
   "source": []
  }
 ],
 "metadata": {
  "kernelspec": {
   "display_name": "Python 3",
   "language": "python",
   "name": "python3"
  },
  "language_info": {
   "codemirror_mode": {
    "name": "ipython",
    "version": 3
   },
   "file_extension": ".py",
   "mimetype": "text/x-python",
   "name": "python",
   "nbconvert_exporter": "python",
   "pygments_lexer": "ipython3",
   "version": "3.6.5"
  }
 },
 "nbformat": 4,
 "nbformat_minor": 2
}
