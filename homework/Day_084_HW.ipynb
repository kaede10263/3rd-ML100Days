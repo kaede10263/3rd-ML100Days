{
 "cells": [
  {
   "cell_type": "markdown",
   "metadata": {},
   "source": [
    "## Work\n",
    "### 請結合前面的知識與程式碼，比較不同的 regularization 的組合對訓練的結果與影響：如 dropout, regularizers, batch-normalization 等"
   ]
  },
  {
   "cell_type": "code",
   "execution_count": 1,
   "metadata": {},
   "outputs": [
    {
     "name": "stderr",
     "output_type": "stream",
     "text": [
      "C:\\Users\\nien\\Anaconda3\\envs\\tensorflow-gpu\\lib\\site-packages\\h5py\\__init__.py:36: FutureWarning: Conversion of the second argument of issubdtype from `float` to `np.floating` is deprecated. In future, it will be treated as `np.float64 == np.dtype(float).type`.\n",
      "  from ._conv import register_converters as _register_converters\n",
      "Using TensorFlow backend.\n"
     ]
    }
   ],
   "source": [
    "import os\n",
    "import keras\n",
    "import itertools\n",
    "from keras.layers import Dropout\n",
    "from keras.layers import BatchNormalization\n",
    "# Disable GPU\n",
    "os.environ[\"CUDA_VISIBLE_DEVICES\"] = \"\""
   ]
  },
  {
   "cell_type": "code",
   "execution_count": 2,
   "metadata": {},
   "outputs": [],
   "source": [
    "train, test = keras.datasets.cifar10.load_data()"
   ]
  },
  {
   "cell_type": "code",
   "execution_count": 3,
   "metadata": {},
   "outputs": [],
   "source": [
    "## 資料前處理\n",
    "def preproc_x(x, flatten=True):\n",
    "    x = x / 255.\n",
    "    if flatten:\n",
    "        x = x.reshape((len(x), -1))\n",
    "    return x\n",
    "\n",
    "def preproc_y(y, num_classes=10):\n",
    "    if y.shape[-1] == 1:\n",
    "        y = keras.utils.to_categorical(y, num_classes)\n",
    "    return y    "
   ]
  },
  {
   "cell_type": "code",
   "execution_count": 4,
   "metadata": {},
   "outputs": [],
   "source": [
    "x_train, y_train = train\n",
    "x_test, y_test = test\n",
    "\n",
    "# Preproc the inputs\n",
    "x_train = preproc_x(x_train)\n",
    "x_test = preproc_x(x_test)\n",
    "\n",
    "# Preprc the outputs\n",
    "y_train = preproc_y(y_train)\n",
    "y_test = preproc_y(y_test)"
   ]
  },
  {
   "cell_type": "code",
   "execution_count": 5,
   "metadata": {},
   "outputs": [],
   "source": [
    "def build_mlp(input_shape, output_units=10, num_neurons=[512, 256, 128]):\n",
    "    input_layer = keras.layers.Input(input_shape)\n",
    "    \n",
    "    for i, n_units in enumerate(num_neurons):\n",
    "        if i == 0:\n",
    "            x = keras.layers.Dense(units=n_units, \n",
    "                                   activation=\"relu\", \n",
    "                                   name=\"hidden_layer\"+str(i+1))(input_layer)\n",
    "            x = Dropout(0.25)(x)\n",
    "            x = BatchNormalization()(x)\n",
    "        else:\n",
    "            x = keras.layers.Dense(units=n_units, \n",
    "                                   activation=\"relu\", \n",
    "                                   name=\"hidden_layer\"+str(i+1))(x)\n",
    "            x = Dropout(0.25)(x)\n",
    "            x = BatchNormalization()(x)\n",
    "    \n",
    "    out = keras.layers.Dense(units=output_units, activation=\"softmax\", name=\"output\")(x)\n",
    "    \n",
    "    model = keras.models.Model(inputs=[input_layer], outputs=[out])\n",
    "    return model"
   ]
  },
  {
   "cell_type": "code",
   "execution_count": 6,
   "metadata": {},
   "outputs": [],
   "source": [
    "LEARNING_RATE = 1e-3\n",
    "EPOCHS = 50\n",
    "BATCH_SIZE = 1024\n",
    "MOMENTUM = 0.95"
   ]
  },
  {
   "cell_type": "code",
   "execution_count": 7,
   "metadata": {
    "scrolled": true
   },
   "outputs": [
    {
     "name": "stdout",
     "output_type": "stream",
     "text": [
      "_________________________________________________________________\n",
      "Layer (type)                 Output Shape              Param #   \n",
      "=================================================================\n",
      "input_1 (InputLayer)         (None, 3072)              0         \n",
      "_________________________________________________________________\n",
      "hidden_layer1 (Dense)        (None, 512)               1573376   \n",
      "_________________________________________________________________\n",
      "dropout_1 (Dropout)          (None, 512)               0         \n",
      "_________________________________________________________________\n",
      "batch_normalization_1 (Batch (None, 512)               2048      \n",
      "_________________________________________________________________\n",
      "hidden_layer2 (Dense)        (None, 256)               131328    \n",
      "_________________________________________________________________\n",
      "dropout_2 (Dropout)          (None, 256)               0         \n",
      "_________________________________________________________________\n",
      "batch_normalization_2 (Batch (None, 256)               1024      \n",
      "_________________________________________________________________\n",
      "hidden_layer3 (Dense)        (None, 128)               32896     \n",
      "_________________________________________________________________\n",
      "dropout_3 (Dropout)          (None, 128)               0         \n",
      "_________________________________________________________________\n",
      "batch_normalization_3 (Batch (None, 128)               512       \n",
      "_________________________________________________________________\n",
      "output (Dense)               (None, 10)                1290      \n",
      "=================================================================\n",
      "Total params: 1,742,474\n",
      "Trainable params: 1,740,682\n",
      "Non-trainable params: 1,792\n",
      "_________________________________________________________________\n",
      "WARNING:tensorflow:From C:\\Users\\nien\\Anaconda3\\envs\\tensorflow-gpu\\lib\\site-packages\\keras\\backend\\tensorflow_backend.py:2885: calling reduce_sum (from tensorflow.python.ops.math_ops) with keep_dims is deprecated and will be removed in a future version.\n",
      "Instructions for updating:\n",
      "keep_dims is deprecated, use keepdims instead\n",
      "WARNING:tensorflow:From C:\\Users\\nien\\Anaconda3\\envs\\tensorflow-gpu\\lib\\site-packages\\keras\\backend\\tensorflow_backend.py:1349: calling reduce_mean (from tensorflow.python.ops.math_ops) with keep_dims is deprecated and will be removed in a future version.\n",
      "Instructions for updating:\n",
      "keep_dims is deprecated, use keepdims instead\n",
      "Train on 50000 samples, validate on 10000 samples\n",
      "Epoch 1/50\n",
      "50000/50000 [==============================] - 7s 144us/step - loss: 2.6318 - acc: 0.1680 - val_loss: 2.2049 - val_acc: 0.1737\n",
      "Epoch 2/50\n",
      "50000/50000 [==============================] - 3s 61us/step - loss: 2.2565 - acc: 0.2491 - val_loss: 2.0108 - val_acc: 0.2660\n",
      "Epoch 3/50\n",
      "50000/50000 [==============================] - 3s 68us/step - loss: 2.1055 - acc: 0.2829 - val_loss: 1.9087 - val_acc: 0.3243\n",
      "Epoch 4/50\n",
      "50000/50000 [==============================] - 3s 66us/step - loss: 2.0149 - acc: 0.3065 - val_loss: 1.8580 - val_acc: 0.3284\n",
      "Epoch 5/50\n",
      "50000/50000 [==============================] - 3s 64us/step - loss: 1.9481 - acc: 0.3218 - val_loss: 1.7979 - val_acc: 0.3609\n",
      "Epoch 6/50\n",
      "50000/50000 [==============================] - 3s 52us/step - loss: 1.8944 - acc: 0.3322 - val_loss: 1.7642 - val_acc: 0.3677\n",
      "Epoch 7/50\n",
      "50000/50000 [==============================] - 3s 58us/step - loss: 1.8473 - acc: 0.3456 - val_loss: 1.7137 - val_acc: 0.3865\n",
      "Epoch 8/50\n",
      "50000/50000 [==============================] - 3s 62us/step - loss: 1.8170 - acc: 0.3543 - val_loss: 1.6729 - val_acc: 0.4005\n",
      "Epoch 9/50\n",
      "50000/50000 [==============================] - 3s 50us/step - loss: 1.7917 - acc: 0.3629 - val_loss: 1.6537 - val_acc: 0.4120\n",
      "Epoch 10/50\n",
      "50000/50000 [==============================] - 3s 54us/step - loss: 1.7635 - acc: 0.3711 - val_loss: 1.6145 - val_acc: 0.4241\n",
      "Epoch 11/50\n",
      "50000/50000 [==============================] - 3s 50us/step - loss: 1.7430 - acc: 0.3783 - val_loss: 1.6126 - val_acc: 0.4227\n",
      "Epoch 12/50\n",
      "50000/50000 [==============================] - 2s 49us/step - loss: 1.7243 - acc: 0.3827 - val_loss: 1.5861 - val_acc: 0.4386\n",
      "Epoch 13/50\n",
      "50000/50000 [==============================] - 3s 52us/step - loss: 1.7045 - acc: 0.3878 - val_loss: 1.5885 - val_acc: 0.4293\n",
      "Epoch 14/50\n",
      "50000/50000 [==============================] - 3s 60us/step - loss: 1.6866 - acc: 0.3968 - val_loss: 1.5723 - val_acc: 0.4355\n",
      "Epoch 15/50\n",
      "50000/50000 [==============================] - 3s 56us/step - loss: 1.6696 - acc: 0.4015 - val_loss: 1.5405 - val_acc: 0.4506\n",
      "Epoch 16/50\n",
      "50000/50000 [==============================] - 3s 58us/step - loss: 1.6600 - acc: 0.4068 - val_loss: 1.5444 - val_acc: 0.4441\n",
      "Epoch 17/50\n",
      "50000/50000 [==============================] - 3s 53us/step - loss: 1.6419 - acc: 0.4127 - val_loss: 1.5407 - val_acc: 0.4489\n",
      "Epoch 18/50\n",
      "50000/50000 [==============================] - 3s 51us/step - loss: 1.6347 - acc: 0.4148 - val_loss: 1.5214 - val_acc: 0.4544\n",
      "Epoch 19/50\n",
      "50000/50000 [==============================] - 3s 52us/step - loss: 1.6154 - acc: 0.4205 - val_loss: 1.5207 - val_acc: 0.4572\n",
      "Epoch 20/50\n",
      "50000/50000 [==============================] - 3s 58us/step - loss: 1.6091 - acc: 0.4248 - val_loss: 1.4991 - val_acc: 0.4635\n",
      "Epoch 21/50\n",
      "50000/50000 [==============================] - 2s 49us/step - loss: 1.5929 - acc: 0.4291 - val_loss: 1.5004 - val_acc: 0.4634\n",
      "Epoch 22/50\n",
      "50000/50000 [==============================] - 3s 51us/step - loss: 1.5850 - acc: 0.4329 - val_loss: 1.4894 - val_acc: 0.4679\n",
      "Epoch 23/50\n",
      "50000/50000 [==============================] - 2s 49us/step - loss: 1.5808 - acc: 0.4333 - val_loss: 1.4824 - val_acc: 0.4711\n",
      "Epoch 24/50\n",
      "50000/50000 [==============================] - 2s 49us/step - loss: 1.5707 - acc: 0.4365 - val_loss: 1.4854 - val_acc: 0.4718\n",
      "Epoch 25/50\n",
      "50000/50000 [==============================] - 2s 49us/step - loss: 1.5647 - acc: 0.4395 - val_loss: 1.4706 - val_acc: 0.4768\n",
      "Epoch 26/50\n",
      "50000/50000 [==============================] - 2s 49us/step - loss: 1.5529 - acc: 0.4474 - val_loss: 1.4868 - val_acc: 0.4674\n",
      "Epoch 27/50\n",
      "50000/50000 [==============================] - 2s 49us/step - loss: 1.5484 - acc: 0.4448 - val_loss: 1.4767 - val_acc: 0.4718\n",
      "Epoch 28/50\n",
      "50000/50000 [==============================] - 2s 50us/step - loss: 1.5367 - acc: 0.4508 - val_loss: 1.4686 - val_acc: 0.4741\n",
      "Epoch 29/50\n",
      "50000/50000 [==============================] - 3s 55us/step - loss: 1.5308 - acc: 0.4508 - val_loss: 1.4523 - val_acc: 0.4792\n",
      "Epoch 30/50\n",
      "50000/50000 [==============================] - 3s 51us/step - loss: 1.5209 - acc: 0.4563 - val_loss: 1.4595 - val_acc: 0.4786\n",
      "Epoch 31/50\n",
      "50000/50000 [==============================] - 3s 53us/step - loss: 1.5182 - acc: 0.4549 - val_loss: 1.4434 - val_acc: 0.4865\n",
      "Epoch 32/50\n",
      "50000/50000 [==============================] - 3s 54us/step - loss: 1.5095 - acc: 0.4606 - val_loss: 1.4380 - val_acc: 0.4877\n",
      "Epoch 33/50\n",
      "50000/50000 [==============================] - 3s 54us/step - loss: 1.5079 - acc: 0.4614 - val_loss: 1.4344 - val_acc: 0.4813\n",
      "Epoch 34/50\n",
      "50000/50000 [==============================] - 3s 54us/step - loss: 1.5010 - acc: 0.4629 - val_loss: 1.4390 - val_acc: 0.4864\n",
      "Epoch 35/50\n",
      "50000/50000 [==============================] - 3s 57us/step - loss: 1.4956 - acc: 0.4651 - val_loss: 1.4217 - val_acc: 0.4930\n",
      "Epoch 36/50\n",
      "50000/50000 [==============================] - 3s 53us/step - loss: 1.4834 - acc: 0.4669 - val_loss: 1.4215 - val_acc: 0.4893\n",
      "Epoch 37/50\n",
      "50000/50000 [==============================] - 3s 54us/step - loss: 1.4774 - acc: 0.4726 - val_loss: 1.4134 - val_acc: 0.4932\n",
      "Epoch 38/50\n",
      "50000/50000 [==============================] - 3s 53us/step - loss: 1.4738 - acc: 0.4728 - val_loss: 1.4241 - val_acc: 0.4851\n",
      "Epoch 39/50\n",
      "50000/50000 [==============================] - 3s 52us/step - loss: 1.4655 - acc: 0.4737 - val_loss: 1.4189 - val_acc: 0.4915\n",
      "Epoch 40/50\n",
      "50000/50000 [==============================] - 3s 51us/step - loss: 1.4595 - acc: 0.4770 - val_loss: 1.4151 - val_acc: 0.4919\n",
      "Epoch 41/50\n",
      "50000/50000 [==============================] - 2s 49us/step - loss: 1.4548 - acc: 0.4760 - val_loss: 1.4087 - val_acc: 0.4916\n",
      "Epoch 42/50\n"
     ]
    },
    {
     "name": "stdout",
     "output_type": "stream",
     "text": [
      "50000/50000 [==============================] - 2s 50us/step - loss: 1.4489 - acc: 0.4785 - val_loss: 1.4131 - val_acc: 0.4957\n",
      "Epoch 43/50\n",
      "50000/50000 [==============================] - 2s 49us/step - loss: 1.4413 - acc: 0.4832 - val_loss: 1.3949 - val_acc: 0.4989\n",
      "Epoch 44/50\n",
      "50000/50000 [==============================] - 2s 49us/step - loss: 1.4359 - acc: 0.4875 - val_loss: 1.4021 - val_acc: 0.4966\n",
      "Epoch 45/50\n",
      "50000/50000 [==============================] - 2s 49us/step - loss: 1.4325 - acc: 0.4864 - val_loss: 1.3953 - val_acc: 0.4972\n",
      "Epoch 46/50\n",
      "50000/50000 [==============================] - 2s 50us/step - loss: 1.4226 - acc: 0.4893 - val_loss: 1.3851 - val_acc: 0.5041\n",
      "Epoch 47/50\n",
      "50000/50000 [==============================] - 3s 50us/step - loss: 1.4202 - acc: 0.4913 - val_loss: 1.3962 - val_acc: 0.4981\n",
      "Epoch 48/50\n",
      "50000/50000 [==============================] - 2s 49us/step - loss: 1.4124 - acc: 0.4944 - val_loss: 1.3897 - val_acc: 0.5004\n",
      "Epoch 49/50\n",
      "50000/50000 [==============================] - 4s 72us/step - loss: 1.4090 - acc: 0.4971 - val_loss: 1.3793 - val_acc: 0.5034\n",
      "Epoch 50/50\n",
      "50000/50000 [==============================] - 4s 79us/step - loss: 1.3992 - acc: 0.4971 - val_loss: 1.3878 - val_acc: 0.5011\n"
     ]
    }
   ],
   "source": [
    "results = {}\n",
    "model = build_mlp(input_shape=x_train.shape[1:])\n",
    "model.summary()\n",
    "optimizer = keras.optimizers.SGD(lr=LEARNING_RATE, nesterov=True, momentum=MOMENTUM)\n",
    "model.compile(loss=\"categorical_crossentropy\", metrics=[\"accuracy\"], optimizer=optimizer)\n",
    "\n",
    "model.fit(x_train, y_train, \n",
    "          epochs=EPOCHS, \n",
    "          batch_size=BATCH_SIZE, \n",
    "          validation_data=(x_test, y_test), \n",
    "          shuffle=True)\n",
    "\n",
    "# Collect results\n",
    "train_loss = model.history.history[\"loss\"]\n",
    "valid_loss = model.history.history[\"val_loss\"]\n",
    "train_acc = model.history.history[\"acc\"]\n",
    "valid_acc = model.history.history[\"val_acc\"]"
   ]
  },
  {
   "cell_type": "code",
   "execution_count": 8,
   "metadata": {},
   "outputs": [
    {
     "data": {
      "image/png": "[encoded data removed]",
      "text/plain": [
       "<Figure size 432x288 with 1 Axes>"
      ]
     },
     "metadata": {},
     "output_type": "display_data"
    },
    {
     "data": {
      "image/png": "[encoded data removed]",
      "text/plain": [
       "<Figure size 432x288 with 1 Axes>"
      ]
     },
     "metadata": {},
     "output_type": "display_data"
    }
   ],
   "source": [
    "import matplotlib.pyplot as plt\n",
    "%matplotlib inline\n",
    "\n",
    "plt.plot(range(len(train_loss)), train_loss, label=\"train loss\")\n",
    "plt.plot(range(len(valid_loss)), valid_loss, label=\"valid loss\")\n",
    "plt.legend()\n",
    "plt.title(\"Loss\")\n",
    "plt.show()\n",
    "\n",
    "plt.plot(range(len(train_acc)), train_acc, label=\"train accuracy\")\n",
    "plt.plot(range(len(valid_acc)), valid_acc, label=\"valid accuracy\")\n",
    "plt.legend()\n",
    "plt.title(\"Accuracy\")\n",
    "plt.show()"
   ]
  },
  {
   "cell_type": "code",
   "execution_count": null,
   "metadata": {},
   "outputs": [],
   "source": []
  }
 ],
 "metadata": {
  "kernelspec": {
   "display_name": "Python 3",
   "language": "python",
   "name": "python3"
  },
  "language_info": {
   "codemirror_mode": {
    "name": "ipython",
    "version": 3
   },
   "file_extension": ".py",
   "mimetype": "text/x-python",
   "name": "python",
   "nbconvert_exporter": "python",
   "pygments_lexer": "ipython3",
   "version": "3.6.5"
  }
 },
 "nbformat": 4,
 "nbformat_minor": 2
}
